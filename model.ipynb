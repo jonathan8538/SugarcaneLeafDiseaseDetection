{
  "cells": [
    {
      "cell_type": "markdown",
      "metadata": {
        "id": "EBSMlGGiCqVS"
      },
      "source": [
        "#install dependencies"
      ]
    },
    {
      "cell_type": "code",
      "execution_count": 13,
      "metadata": {
        "colab": {
          "base_uri": "https://localhost:8080/"
        },
        "id": "ZPsdAyZF4oEs",
        "outputId": "2082471f-6245-412f-e7ba-832946da07a3"
      },
      "outputs": [
        {
          "name": "stdout",
          "output_type": "stream",
          "text": [
            "Requirement already satisfied: opencv-python in /usr/local/lib/python3.11/dist-packages (4.11.0.86)\n",
            "Requirement already satisfied: numpy in /usr/local/lib/python3.11/dist-packages (2.0.2)\n",
            "Requirement already satisfied: scikit-image in /usr/local/lib/python3.11/dist-packages (0.25.2)\n",
            "Requirement already satisfied: scikit-learn in /usr/local/lib/python3.11/dist-packages (1.6.1)\n",
            "Requirement already satisfied: tensorflow in /usr/local/lib/python3.11/dist-packages (2.18.0)\n",
            "Requirement already satisfied: transformers in /usr/local/lib/python3.11/dist-packages (4.51.3)\n",
            "Requirement already satisfied: scipy>=1.11.4 in /usr/local/lib/python3.11/dist-packages (from scikit-image) (1.15.2)\n",
            "Requirement already satisfied: networkx>=3.0 in /usr/local/lib/python3.11/dist-packages (from scikit-image) (3.4.2)\n",
            "Requirement already satisfied: pillow>=10.1 in /usr/local/lib/python3.11/dist-packages (from scikit-image) (11.2.1)\n",
            "Requirement already satisfied: imageio!=2.35.0,>=2.33 in /usr/local/lib/python3.11/dist-packages (from scikit-image) (2.37.0)\n",
            "Requirement already satisfied: tifffile>=2022.8.12 in /usr/local/lib/python3.11/dist-packages (from scikit-image) (2025.3.30)\n",
            "Requirement already satisfied: packaging>=21 in /usr/local/lib/python3.11/dist-packages (from scikit-image) (24.2)\n",
            "Requirement already satisfied: lazy-loader>=0.4 in /usr/local/lib/python3.11/dist-packages (from scikit-image) (0.4)\n",
            "Requirement already satisfied: joblib>=1.2.0 in /usr/local/lib/python3.11/dist-packages (from scikit-learn) (1.4.2)\n",
            "Requirement already satisfied: threadpoolctl>=3.1.0 in /usr/local/lib/python3.11/dist-packages (from scikit-learn) (3.6.0)\n",
            "Requirement already satisfied: absl-py>=1.0.0 in /usr/local/lib/python3.11/dist-packages (from tensorflow) (1.4.0)\n",
            "Requirement already satisfied: astunparse>=1.6.0 in /usr/local/lib/python3.11/dist-packages (from tensorflow) (1.6.3)\n",
            "Requirement already satisfied: flatbuffers>=24.3.25 in /usr/local/lib/python3.11/dist-packages (from tensorflow) (25.2.10)\n",
            "Requirement already satisfied: gast!=0.5.0,!=0.5.1,!=0.5.2,>=0.2.1 in /usr/local/lib/python3.11/dist-packages (from tensorflow) (0.6.0)\n",
            "Requirement already satisfied: google-pasta>=0.1.1 in /usr/local/lib/python3.11/dist-packages (from tensorflow) (0.2.0)\n",
            "Requirement already satisfied: libclang>=13.0.0 in /usr/local/lib/python3.11/dist-packages (from tensorflow) (18.1.1)\n",
            "Requirement already satisfied: opt-einsum>=2.3.2 in /usr/local/lib/python3.11/dist-packages (from tensorflow) (3.4.0)\n",
            "Requirement already satisfied: protobuf!=4.21.0,!=4.21.1,!=4.21.2,!=4.21.3,!=4.21.4,!=4.21.5,<6.0.0dev,>=3.20.3 in /usr/local/lib/python3.11/dist-packages (from tensorflow) (5.29.4)\n",
            "Requirement already satisfied: requests<3,>=2.21.0 in /usr/local/lib/python3.11/dist-packages (from tensorflow) (2.32.3)\n",
            "Requirement already satisfied: setuptools in /usr/local/lib/python3.11/dist-packages (from tensorflow) (75.2.0)\n",
            "Requirement already satisfied: six>=1.12.0 in /usr/local/lib/python3.11/dist-packages (from tensorflow) (1.17.0)\n",
            "Requirement already satisfied: termcolor>=1.1.0 in /usr/local/lib/python3.11/dist-packages (from tensorflow) (3.1.0)\n",
            "Requirement already satisfied: typing-extensions>=3.6.6 in /usr/local/lib/python3.11/dist-packages (from tensorflow) (4.13.2)\n",
            "Requirement already satisfied: wrapt>=1.11.0 in /usr/local/lib/python3.11/dist-packages (from tensorflow) (1.17.2)\n",
            "Requirement already satisfied: grpcio<2.0,>=1.24.3 in /usr/local/lib/python3.11/dist-packages (from tensorflow) (1.71.0)\n",
            "Requirement already satisfied: tensorboard<2.19,>=2.18 in /usr/local/lib/python3.11/dist-packages (from tensorflow) (2.18.0)\n",
            "Requirement already satisfied: keras>=3.5.0 in /usr/local/lib/python3.11/dist-packages (from tensorflow) (3.8.0)\n",
            "Requirement already satisfied: h5py>=3.11.0 in /usr/local/lib/python3.11/dist-packages (from tensorflow) (3.13.0)\n",
            "Requirement already satisfied: ml-dtypes<0.5.0,>=0.4.0 in /usr/local/lib/python3.11/dist-packages (from tensorflow) (0.4.1)\n",
            "Requirement already satisfied: tensorflow-io-gcs-filesystem>=0.23.1 in /usr/local/lib/python3.11/dist-packages (from tensorflow) (0.37.1)\n",
            "Requirement already satisfied: filelock in /usr/local/lib/python3.11/dist-packages (from transformers) (3.18.0)\n",
            "Requirement already satisfied: huggingface-hub<1.0,>=0.30.0 in /usr/local/lib/python3.11/dist-packages (from transformers) (0.30.2)\n",
            "Requirement already satisfied: pyyaml>=5.1 in /usr/local/lib/python3.11/dist-packages (from transformers) (6.0.2)\n",
            "Requirement already satisfied: regex!=2019.12.17 in /usr/local/lib/python3.11/dist-packages (from transformers) (2024.11.6)\n",
            "Requirement already satisfied: tokenizers<0.22,>=0.21 in /usr/local/lib/python3.11/dist-packages (from transformers) (0.21.1)\n",
            "Requirement already satisfied: safetensors>=0.4.3 in /usr/local/lib/python3.11/dist-packages (from transformers) (0.5.3)\n",
            "Requirement already satisfied: tqdm>=4.27 in /usr/local/lib/python3.11/dist-packages (from transformers) (4.67.1)\n",
            "Requirement already satisfied: wheel<1.0,>=0.23.0 in /usr/local/lib/python3.11/dist-packages (from astunparse>=1.6.0->tensorflow) (0.45.1)\n",
            "Requirement already satisfied: fsspec>=2023.5.0 in /usr/local/lib/python3.11/dist-packages (from huggingface-hub<1.0,>=0.30.0->transformers) (2025.3.2)\n",
            "Requirement already satisfied: rich in /usr/local/lib/python3.11/dist-packages (from keras>=3.5.0->tensorflow) (13.9.4)\n",
            "Requirement already satisfied: namex in /usr/local/lib/python3.11/dist-packages (from keras>=3.5.0->tensorflow) (0.0.9)\n",
            "Requirement already satisfied: optree in /usr/local/lib/python3.11/dist-packages (from keras>=3.5.0->tensorflow) (0.15.0)\n",
            "Requirement already satisfied: charset-normalizer<4,>=2 in /usr/local/lib/python3.11/dist-packages (from requests<3,>=2.21.0->tensorflow) (3.4.1)\n",
            "Requirement already satisfied: idna<4,>=2.5 in /usr/local/lib/python3.11/dist-packages (from requests<3,>=2.21.0->tensorflow) (3.10)\n",
            "Requirement already satisfied: urllib3<3,>=1.21.1 in /usr/local/lib/python3.11/dist-packages (from requests<3,>=2.21.0->tensorflow) (2.4.0)\n",
            "Requirement already satisfied: certifi>=2017.4.17 in /usr/local/lib/python3.11/dist-packages (from requests<3,>=2.21.0->tensorflow) (2025.4.26)\n",
            "Requirement already satisfied: markdown>=2.6.8 in /usr/local/lib/python3.11/dist-packages (from tensorboard<2.19,>=2.18->tensorflow) (3.8)\n",
            "Requirement already satisfied: tensorboard-data-server<0.8.0,>=0.7.0 in /usr/local/lib/python3.11/dist-packages (from tensorboard<2.19,>=2.18->tensorflow) (0.7.2)\n",
            "Requirement already satisfied: werkzeug>=1.0.1 in /usr/local/lib/python3.11/dist-packages (from tensorboard<2.19,>=2.18->tensorflow) (3.1.3)\n",
            "Requirement already satisfied: MarkupSafe>=2.1.1 in /usr/local/lib/python3.11/dist-packages (from werkzeug>=1.0.1->tensorboard<2.19,>=2.18->tensorflow) (3.0.2)\n",
            "Requirement already satisfied: markdown-it-py>=2.2.0 in /usr/local/lib/python3.11/dist-packages (from rich->keras>=3.5.0->tensorflow) (3.0.0)\n",
            "Requirement already satisfied: pygments<3.0.0,>=2.13.0 in /usr/local/lib/python3.11/dist-packages (from rich->keras>=3.5.0->tensorflow) (2.19.1)\n",
            "Requirement already satisfied: mdurl~=0.1 in /usr/local/lib/python3.11/dist-packages (from markdown-it-py>=2.2.0->rich->keras>=3.5.0->tensorflow) (0.1.2)\n"
          ]
        }
      ],
      "source": [
        "#install all packages needed\n",
        "!pip install opencv-python numpy scikit-image scikit-learn tensorflow transformers\n",
        "\n",
        "import os\n",
        "import random\n",
        "import numpy as np\n",
        "import cv2\n",
        "from PIL import Image\n",
        "import matplotlib.pyplot as plt\n",
        "from tqdm import tqdm\n",
        "import seaborn as sns\n",
        "\n",
        "import tensorflow as tf\n",
        "import torch\n",
        "import torchvision.transforms as transforms\n",
        "from skimage.feature import graycomatrix, graycoprops\n",
        "from transformers import ViTFeatureExtractor, ViTModel\n",
        "from sklearn.svm import SVC\n",
        "from sklearn.model_selection import train_test_split, GridSearchCV\n",
        "from sklearn.preprocessing import StandardScaler\n",
        "from sklearn.metrics import accuracy_score, classification_report\n",
        "from sklearn.feature_selection import SelectKBest, f_classif\n"
      ]
    },
    {
      "cell_type": "markdown",
      "metadata": {
        "id": "LzZLepFWCtIS"
      },
      "source": [
        "#declare function"
      ]
    },
    {
      "cell_type": "code",
      "execution_count": 14,
      "metadata": {
        "id": "BRqO6Czr4rye"
      },
      "outputs": [],
      "source": [
        "#function untuk augmentation (supaya dataset gambar lebih variatif, dia di flip vertical, horizontal sama brightness nya dirandom)\n",
        "\n",
        "def load_images(directory, label, augment_count=3):\n",
        "    images = []\n",
        "    labels = []\n",
        "\n",
        "    transform_aug = transforms.Compose([\n",
        "        transforms.RandomHorizontalFlip(),\n",
        "        transforms.RandomVerticalFlip(),\n",
        "        transforms.RandomRotation(30),\n",
        "        transforms.ColorJitter(brightness=0.3, contrast=0.3),\n",
        "        transforms.Resize((224, 224)),\n",
        "        transforms.ToTensor()\n",
        "    ])\n",
        "\n",
        "    for filename in os.listdir(directory):\n",
        "        if filename.endswith(('.jpg', '.jpeg', '.png')):  #supaya kompatible semua jenis file gambar\n",
        "            img_path = os.path.join(directory, filename)\n",
        "            img = Image.open(img_path).convert(\"RGB\")\n",
        "\n",
        "            #resize gambar supaya semua gambar sama ukurannya\n",
        "            img_resized = transforms.Resize((224, 224))(img)\n",
        "            images.append(np.array(img_resized))\n",
        "            labels.append(label)\n",
        "\n",
        "            #looping untuk pengaplikasian proses augmentation\n",
        "            for _ in range(augment_count):\n",
        "                img_aug = transform_aug(img)\n",
        "                images.append(np.transpose(img_aug.numpy(), (1, 2, 0)))\n",
        "                labels.append(label)\n",
        "\n",
        "    return images, labels\n"
      ]
    },
    {
      "cell_type": "code",
      "execution_count": 15,
      "metadata": {
        "id": "3A4kLzln5SpU"
      },
      "outputs": [],
      "source": [
        "#load dataset\n",
        "classes = ['Healthy', 'Mosaic', 'RedRot', 'Rust', 'Yellow'] #define class dari imagenya\n",
        "images, labels = [], [] #buat list buat store semua images sama label nya\n",
        "\n",
        "for idx, cls in enumerate(classes): #iterasi masukkin semua gambar sama class ke list\n",
        "    imgs, lbls = load_images(f'/content/drive/MyDrive/dataset/{cls}', idx)\n",
        "    images.extend(imgs)\n",
        "    labels.extend(lbls)\n",
        "\n",
        "#shuffle dataset\n",
        "combined = list(zip(images, labels)) #gabungin dulu gambar sama labelnya\n",
        "random.shuffle(combined)\n",
        "images[:], labels[:] = zip(*combined) #setelah shuffle kita pisahin lagi gambar sama labelnya"
      ]
    },
    {
      "cell_type": "markdown",
      "metadata": {
        "id": "s6wBhmIx9vde"
      },
      "source": [
        "#Feature extraction"
      ]
    },
    {
      "cell_type": "code",
      "execution_count": 16,
      "metadata": {
        "id": "56jlu7lZ5U9M"
      },
      "outputs": [],
      "source": [
        "#glcm feature extraction ini untuk nanti ektrak fitur tekstur dari objek dengan menghitung kedekatan antar piksel\n",
        "\n",
        "def extract_glcm_features(image):\n",
        "    img_uint8 = (image * 255).astype(np.uint8)  #konversi dari float64 ke uint8 (supaya kompatibel)\n",
        "    gray = cv2.cvtColor(img_uint8, cv2.COLOR_BGR2GRAY) #konversi ke grayscale\n",
        "    glcm = graycomatrix(gray, distances=[1], angles=[0], levels=256, symmetric=True, normed=True)\n",
        "    return [ #buat return semua value -> contrast, energy, correlation dan homogeneity\n",
        "        graycoprops(glcm, 'contrast')[0, 0],\n",
        "        graycoprops(glcm, 'energy')[0, 0],\n",
        "        graycoprops(glcm, 'correlation')[0, 0],\n",
        "        graycoprops(glcm, 'homogeneity')[0, 0]\n",
        "    ]\n",
        "\n"
      ]
    },
    {
      "cell_type": "code",
      "execution_count": 17,
      "metadata": {
        "id": "uxB62zBS_RTL"
      },
      "outputs": [],
      "source": [
        "#ekstrak statistik warna\n",
        "def extract_color_stats(image):\n",
        "    image = image / 255.0\n",
        "    r, g, b = image[:, :, 0], image[:, :, 1], image[:, :, 2]  #gambar dipisah jadi data rgb (red, green, blue)\n",
        "    return [r.mean(), r.std(), g.mean(), g.std(), b.mean(), b.std()] #return statistik warna"
      ]
    },
    {
      "cell_type": "code",
      "execution_count": 18,
      "metadata": {
        "colab": {
          "base_uri": "https://localhost:8080/"
        },
        "id": "4SMna1On5fYK",
        "outputId": "5b9df6e4-822f-4b17-fff4-bf6de5fc10e6"
      },
      "outputs": [
        {
          "name": "stderr",
          "output_type": "stream",
          "text": [
            "/usr/local/lib/python3.11/dist-packages/transformers/models/vit/feature_extraction_vit.py:28: FutureWarning: The class ViTFeatureExtractor is deprecated and will be removed in version 5 of Transformers. Please use ViTImageProcessor instead.\n",
            "  warnings.warn(\n"
          ]
        }
      ],
      "source": [
        "#ekstraksi fitur vit\n",
        "device = torch.device(\"cuda\" if torch.cuda.is_available() else \"cpu\") #panggil model vit yang mau dipakai\n",
        "feature_extractor = ViTFeatureExtractor.from_pretrained(\"google/vit-base-patch16-224-in21k\")\n",
        "vit_model = ViTModel.from_pretrained(\"google/vit-base-patch16-224-in21k\").to(device)\n",
        "\n",
        "def extract_vit_features(image):\n",
        "    transform = transforms.Compose([\n",
        "        transforms.ToPILImage(),\n",
        "        transforms.Resize((224, 224)), #resize ke input vit\n",
        "        transforms.ToTensor(),\n",
        "        transforms.Normalize(mean=feature_extractor.image_mean, std=feature_extractor.image_std) #normalisasi gambar\n",
        "    ])\n",
        "    image_tensor = transform(image).unsqueeze(0).to(device)\n",
        "    with torch.no_grad():\n",
        "        features = vit_model(image_tensor).last_hidden_state[:, 0, :].cpu().numpy()  # ambil CLS token\n",
        "    return features.flatten()"
      ]
    },
    {
      "cell_type": "code",
      "execution_count": 19,
      "metadata": {
        "id": "RKP4vuDdBcv-"
      },
      "outputs": [],
      "source": [
        "#ekstraksi semua fitur (glcm, color dan vit)\n",
        "def extract_features(image):\n",
        "    return np.concatenate([\n",
        "        extract_glcm_features(image),\n",
        "        extract_color_stats(image),\n",
        "        extract_vit_features(image)\n",
        "    ])\n"
      ]
    },
    {
      "cell_type": "code",
      "execution_count": 20,
      "metadata": {
        "colab": {
          "base_uri": "https://localhost:8080/"
        },
        "id": "KXBL9caI5jDV",
        "outputId": "9ea9bd5e-b55c-426d-e02f-c16ad57b33f1"
      },
      "outputs": [
        {
          "name": "stderr",
          "output_type": "stream",
          "text": [
            "100%|██████████| 10084/10084 [03:44<00:00, 44.97it/s]\n"
          ]
        }
      ],
      "source": [
        "#store semua features ke list\n",
        "features = np.array([extract_features(img) for img in tqdm(images)], dtype=np.float32)\n",
        "y = np.array(labels)\n"
      ]
    },
    {
      "cell_type": "code",
      "execution_count": 21,
      "metadata": {
        "id": "yctu8nuf5o_8"
      },
      "outputs": [],
      "source": [
        "# Save and reuse\n",
        "np.save(\"features.npy\", features)\n",
        "np.save(\"labels.npy\", y)\n",
        "\n",
        "# Load features\n",
        "features = np.load(\"features.npy\")\n",
        "y = np.load(\"labels.npy\")"
      ]
    },
    {
      "cell_type": "code",
      "execution_count": 29,
      "metadata": {
        "id": "PzUcUspT5nYt"
      },
      "outputs": [],
      "source": [
        "#  split dataset\n",
        "X_train, X_test, y_train, y_test = train_test_split(features, y, test_size=0.2, stratify=y, random_state=42)\n",
        "\n",
        "# normlisasi\n",
        "scaler = StandardScaler()\n",
        "X_train_scaled = scaler.fit_transform(X_train)\n",
        "X_test_scaled = scaler.transform(X_test)\n"
      ]
    },
    {
      "cell_type": "markdown",
      "metadata": {
        "id": "1z7SjOzj91u9"
      },
      "source": [
        "#Training model"
      ]
    },
    {
      "cell_type": "code",
      "execution_count": 30,
      "metadata": {
        "colab": {
          "base_uri": "https://localhost:8080/"
        },
        "id": "1ad0DLbjC0kI",
        "outputId": "98ee9d94-e28f-4a38-d045-bb674c450d7c"
      },
      "outputs": [
        {
          "name": "stdout",
          "output_type": "stream",
          "text": [
            "Accuracy: 0.9668\n",
            "              precision    recall  f1-score   support\n",
            "\n",
            "           0       0.98      0.98      0.98       418\n",
            "           1       0.97      0.96      0.97       370\n",
            "           2       0.93      0.97      0.95       414\n",
            "           3       0.98      0.99      0.98       411\n",
            "           4       0.96      0.94      0.95       404\n",
            "\n",
            "    accuracy                           0.97      2017\n",
            "   macro avg       0.97      0.97      0.97      2017\n",
            "weighted avg       0.97      0.97      0.97      2017\n",
            "\n"
          ]
        }
      ],
      "source": [
        "#training svm (svc linear kernel)\n",
        "clf = SVC(kernel='linear')\n",
        "clf.fit(X_train, y_train)\n",
        "\n",
        "#evaluasi model\n",
        "y_pred = clf.predict(X_test)\n",
        "accuracy = accuracy_score(y_test, y_pred)\n",
        "\n",
        "print(f\"Accuracy: {accuracy:.4f}\")\n",
        "print(classification_report(y_test, y_pred))"
      ]
    },
    {
      "cell_type": "code",
      "execution_count": null,
      "metadata": {
        "colab": {
          "base_uri": "https://localhost:8080/"
        },
        "id": "6rdWn8k65lTq",
        "outputId": "63f0cac5-9a46-42cd-8ac4-79b962bebeaf"
      },
      "outputs": [
        {
          "name": "stdout",
          "output_type": "stream",
          "text": [
            "Best Parameters: {'C': 10, 'gamma': 0.001, 'kernel': 'rbf'}\n",
            "Accuracy: 0.9812\n",
            "              precision    recall  f1-score   support\n",
            "\n",
            "     Healthy       0.99      0.99      0.99       418\n",
            "      Mosaic       1.00      0.98      0.99       370\n",
            "      RedRot       0.96      0.99      0.97       414\n",
            "        Rust       0.98      0.99      0.98       411\n",
            "      Yellow       0.98      0.97      0.97       404\n",
            "\n",
            "    accuracy                           0.98      2017\n",
            "   macro avg       0.98      0.98      0.98      2017\n",
            "weighted avg       0.98      0.98      0.98      2017\n",
            "\n"
          ]
        }
      ],
      "source": [
        "#training dengan gridseachcv\n",
        "param_grid = { #declare parameter yang akan dipakai\n",
        "    'C': [0.01, 0.1, 1, 10, 100],\n",
        "    'kernel': ['linear', 'rbf'],\n",
        "    'gamma': [0.001, 0.01, 0.1, 'scale', 'auto']\n",
        "}\n",
        "#training svc kernel linear dan rbf tambah gridsearchcv supaya yang digunakan adalah parameter terbaik dengan custom parameter, tidak pakai parameter svc default\n",
        "grid = GridSearchCV(SVC(), param_grid, cv=3, scoring='accuracy', n_jobs=-1)\n",
        "grid.fit(X_train_scaled, y_train)\n",
        "\n",
        "clf = grid.best_estimator_\n",
        "y_pred = clf.predict(X_test_scaled)\n",
        "\n",
        "#evaluasi model\n",
        "print(\"Best Parameters:\", grid.best_params_)\n",
        "print(f\"Accuracy: {accuracy_score(y_test, y_pred):.4f}\")\n",
        "print(classification_report(y_test, y_pred, target_names=classes))"
      ]
    }
  ],
  "metadata": {
    "accelerator": "GPU",
    "colab": {
      "gpuType": "T4",
      "provenance": []
    },
    "kernelspec": {
      "display_name": "Python 3",
      "name": "python3"
    },
    "language_info": {
      "name": "python"
    }
  },
  "nbformat": 4,
  "nbformat_minor": 0
}
